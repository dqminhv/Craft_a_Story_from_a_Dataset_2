{
 "cells": [
  {
   "cell_type": "code",
   "execution_count": null,
   "id": "95171f78",
   "metadata": {},
   "outputs": [],
   "source": [
    "#!pip install ydata-profiling"
   ]
  },
  {
   "cell_type": "code",
   "execution_count": null,
   "id": "73c58920",
   "metadata": {},
   "outputs": [],
   "source": [
    "#! pip install openpyxl"
   ]
  },
  {
   "cell_type": "code",
   "execution_count": null,
   "id": "44ab8809",
   "metadata": {},
   "outputs": [],
   "source": [
    "import pandas as pd\n",
    "import numpy as np\n",
    "import matplotlib.pyplot as plt\n",
    "import seaborn as sns"
   ]
  },
  {
   "cell_type": "code",
   "execution_count": null,
   "id": "28656dd5",
   "metadata": {},
   "outputs": [],
   "source": [
    "data_path = '/home/dqminhv/Craft_a_Story_from_a_Dataset/archive/millenniumofdata_v3_headlines.csv'"
   ]
  },
  {
   "cell_type": "code",
   "execution_count": null,
   "id": "bfcd15dd",
   "metadata": {},
   "outputs": [],
   "source": [
    "df = pd.read_csv(data_path)"
   ]
  },
  {
   "cell_type": "code",
   "execution_count": null,
   "id": "aabd9716",
   "metadata": {},
   "outputs": [],
   "source": [
    "#Remove the first row\n",
    "df.drop(0, inplace=True)\n",
    "df.reset_index()"
   ]
  },
  {
   "cell_type": "code",
   "execution_count": null,
   "id": "4d449a08",
   "metadata": {},
   "outputs": [],
   "source": [
    "#Remove clumn 'index'\n",
    "df.drop(columns='index', inplace=True)"
   ]
  },
  {
   "cell_type": "code",
   "execution_count": null,
   "id": "0f3b923c",
   "metadata": {},
   "outputs": [],
   "source": [
    "df = df.dropna(subset=['Description'])"
   ]
  },
  {
   "cell_type": "code",
   "execution_count": null,
   "id": "87780677",
   "metadata": {},
   "outputs": [],
   "source": [
    "df.shape"
   ]
  },
  {
   "cell_type": "code",
   "execution_count": null,
   "id": "b93ecca0",
   "metadata": {},
   "outputs": [],
   "source": [
    "df.info()"
   ]
  },
  {
   "cell_type": "code",
   "execution_count": null,
   "id": "30af8408",
   "metadata": {},
   "outputs": [],
   "source": [
    "from ydata_profiling import ProfileReport"
   ]
  },
  {
   "cell_type": "code",
   "execution_count": null,
   "id": "97d0a36b",
   "metadata": {},
   "outputs": [],
   "source": [
    "profile = ProfileReport(df, title=\"Data Profiling Report\")"
   ]
  },
  {
   "cell_type": "code",
   "execution_count": null,
   "id": "56a5517f",
   "metadata": {},
   "outputs": [],
   "source": [
    "profile.to_widgets()\n",
    "profile.to_notebook_iframe()"
   ]
  },
  {
   "cell_type": "code",
   "execution_count": null,
   "id": "7b3282d0",
   "metadata": {},
   "outputs": [],
   "source": [
    "profile.to_file(\"UK millennium of macroeconomic data.html\")"
   ]
  },
  {
   "cell_type": "code",
   "execution_count": null,
   "id": "a0addd6f",
   "metadata": {},
   "outputs": [],
   "source": [
    "df['Description'] = df['Description'].astype('int64')"
   ]
  },
  {
   "cell_type": "code",
   "execution_count": null,
   "id": "a7422174",
   "metadata": {},
   "outputs": [],
   "source": [
    "# Create a null map using Seaborn's heatmap\n",
    "plt.figure(figsize=(8, 6))  # Set the figure size (optional)\n",
    "\n",
    "# Use df.isnull() to create a DataFrame of True/False values indicating missing values\n",
    "# Use sns.heatmap to plot the null map\n",
    "sns.heatmap(df.isnull(), cmap='viridis', cbar=False, yticklabels=False)\n",
    "\n",
    "# Calculate tick positions\n",
    "num_ticks = 10\n",
    "min_value = min(df['Description'])\n",
    "max_value = max(df['Description'])\n",
    "tick_positions = np.linspace(min_value, max_value, num_ticks)\n",
    "\n",
    "plt.yticks(tick_positions)\n",
    "\n",
    "plt.title('Null Values Map')  # Set the title (optional)\n",
    "plt.show()"
   ]
  }
 ],
 "metadata": {
  "kernelspec": {
   "display_name": "Python 3 (ipykernel)",
   "language": "python",
   "name": "python3"
  },
  "language_info": {
   "codemirror_mode": {
    "name": "ipython",
    "version": 3
   },
   "file_extension": ".py",
   "mimetype": "text/x-python",
   "name": "python",
   "nbconvert_exporter": "python",
   "pygments_lexer": "ipython3",
   "version": "3.9.2"
  }
 },
 "nbformat": 4,
 "nbformat_minor": 5
}
